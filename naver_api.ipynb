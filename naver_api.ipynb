{
 "cells": [
  {
   "cell_type": "code",
   "execution_count": 3,
   "metadata": {},
   "outputs": [
    {
     "name": "stdout",
     "output_type": "stream",
     "text": [
      "{\n",
      "\t\"lastBuildDate\":\"Tue, 05 Mar 2024 09:36:52 +0900\",\n",
      "\t\"total\":19433312,\n",
      "\t\"start\":1,\n",
      "\t\"display\":10,\n",
      "\t\"items\":[\n",
      "\t\t{\n",
      "\t\t\t\"title\":\"<b>전북은행<\\/b>\",\n",
      "\t\t\t\"link\":\"https:\\/\\/www.jbbank.co.kr\\/\",\n",
      "\t\t\t\"description\":\"인터넷뱅킹, 계좌조회, 이체, 대출, 카드, 공과금납부, 상품신규 및 사고신고 안내\"\n",
      "\t\t},\n",
      "\t\t{\n",
      "\t\t\t\"title\":\"<b>전북은행<\\/b> - 나무위키\",\n",
      "\t\t\t\"link\":\"https:\\/\\/namu.wiki\\/w\\/%EC%A0%84%EB%B6%81%EC%9D%80%ED%96%89\",\n",
      "\t\t\t\"description\":\"<b>전북<\\/b>특별자치도전주시덕진구백제대로에 있는 금암동 본점. JB금융그룹 계열 전국구 지방<b>은행<\\/b>. 최대 주주는 삼양사 계열 제약회사 삼양바이오팜이다.\"\n",
      "\t\t},\n",
      "\t\t{\n",
      "\t\t\t\"title\":\"<b>전북은행<\\/b> 공식 블로그\",\n",
      "\t\t\t\"link\":\"https:\\/\\/blog.naver.com\\/jbdigital0115\",\n",
      "\t\t\t\"description\":\"약 250 명의 구독자를 보유한 <b>전북은행<\\/b> 공식 블로그(jbdigital0115)의 블로그. 약 200 건의 게시물이 있습니다. 금융으로 더 따뜻한 세상을 만드는 JB <b>전북은행<\\/b> 입니다.\"\n",
      "\t\t},\n",
      "\t\t{\n",
      "\t\t\t\"title\":\"(주)<b>전북은행<\\/b> 2024년 기업정보 | 직원수, 근무환경, 복리후생 등 - 사람인\",\n",
      "\t\t\t\"link\":\"https:\\/\\/www.saramin.co.kr\\/zf_user\\/company-info\\/view?csn=VUxIa2JRSm1SM2ZaOFcyVDBFSmVPdz09\",\n",
      "\t\t\t\"description\":\"(주)<b>전북은행<\\/b> 기업소개 - 업력 : 56년차, 기업형태 : 대기업, 업종 : 국내<b>은행<\\/b> | (주)<b>전북은행<\\/b>의 직원수, 연봉, 채용, 근무환경, 복리후생, 재무정보 등이 궁금하시다면, 사람인에서 더 많은 정보를 확인해보세요.\"\n",
      "\t\t},\n",
      "\t\t{\n",
      "\t\t\t\"title\":\"<b>전북은행<\\/b> - 위키백과 한국\",\n",
      "\t\t\t\"link\":\"https:\\/\\/ko.wikipedia.org\\/wiki\\/%EC%A0%84%EB%B6%81%EC%9D%80%ED%96%89\",\n",
      "\t\t\t\"description\":\"<b>전북은행<\\/b> (全北銀行, Jeonbuk Bank)은 대한민국의 지방<b>은행<\\/b>이자 JB금융지주의 계열사로, <b>전북<\\/b>특별자치도의 금고<b>은행<\\/b>이다. 본점은 <b>전북<\\/b>대학교 정문 건너편에 있다. 연혁 1969년 12월 <b>전북은행<\\/b> 설립 1972년 3월 증권거래소 상장 1993년 7월 1일 덕진구 금암동에 본점 신축, 이전 2011년 9월 우리캐피탈 인수, JB우리...\"\n",
      "\t\t},\n",
      "\t\t{\n",
      "\t\t\t\"title\":\"<b>전북은행<\\/b> - 쏙뱅크 - Google Play 앱\",\n",
      "\t\t\t\"link\":\"https:\\/\\/play.google.com\\/store\\/apps\\/details?id=kr.co.jbbank.privatebank\",\n",
      "\t\t\t\"description\":\"<b>전북은행<\\/b> - 쏙뱅크 (주)<b>전북은행<\\/b> 3.8star 리뷰 1.69천개 100만+ 다운로드 3세 이상info\"\n",
      "\t\t},\n",
      "\t\t{\n",
      "\t\t\t\"title\":\"<b>전북은행<\\/b> 최고 연 3.50% (기본 2.80%) 씨드모아 파킹통장으로 높은 금리 받기\",\n",
      "\t\t\t\"link\":\"https:\\/\\/blog.naver.com\\/joinjaang\\/223352221998\",\n",
      "\t\t\t\"description\":\"<b>전북은행<\\/b>에서 요새 보기 드문 높은 금리를 가지고 있는 씨드모아... <b>전북은행<\\/b> 씨드모아통장이란? 1금융권에서 받을 수 있는 금리 중 최고... <b>전북은행<\\/b> 씨드모아통장 장점 <b>전북은행<\\/b>을 처음으로 이용하는...\"\n",
      "\t\t},\n",
      "\t\t{\n",
      "\t\t\t\"title\":\"2024년 <b>전북은행<\\/b> 채용 기업정보 보기 | 인크루트\",\n",
      "\t\t\t\"link\":\"https:\\/\\/www.incruit.com\\/company\\/1676041308\",\n",
      "\t\t\t\"description\":\"<b>전북은행<\\/b>의 최신 기업정보, 채용, 연봉 등 취업에 필요한 정보를 인크루트에서 확인하세요.\"\n",
      "\t\t},\n",
      "\t\t{\n",
      "\t\t\t\"title\":\"개인뱅킹 - <b>전북은행<\\/b>\",\n",
      "\t\t\t\"link\":\"https:\\/\\/www.jbbank.co.kr\\/PLIBS_MAIN.act\",\n",
      "\t\t\t\"description\":\"전계좌조회 ; 즉시이체 ; 자동이체등록 ; 지로납부 ; 대출이자납입 ; 예금신규\"\n",
      "\t\t},\n",
      "\t\t{\n",
      "\t\t\t\"title\":\"App Store에서 제공하는 <b>전북은행<\\/b> - 쏙뱅크\",\n",
      "\t\t\t\"link\":\"https:\\/\\/apps.apple.com\\/kr\\/app\\/%EC%A0%84%EB%B6%81%EC%9D%80%ED%96%89-%EC%8F%99%EB%B1%85%ED%81%AC\\/id1547903285\",\n",
      "\t\t\t\"description\":\"내 손 안에 쏙 들어오는 생활금융플랫폼 더 빠르고, 더 쉽고, 더 유용하게 이용할 수 있는 「<b>전북은행<\\/b> 쏙뱅크」를 소개합니다. ■ 간편 가입\\/로그인 ∙ 회원가입부터 계좌개설까지 보안카드 없이 쉽고 빠르게 ∙ 간편비\"\n",
      "\t\t}\n",
      "\t]\n",
      "}\n"
     ]
    }
   ],
   "source": [
    "# 네이버 검색 API 예제 - 블로그 검색\n",
    "import os\n",
    "import sys\n",
    "import urllib.request\n",
    "client_id = \"dXDKiZYuqRoz_dgIRUce\"\n",
    "client_secret = \"bijxFGOmfB\"\n",
    "encText = urllib.parse.quote(\"전북은행\")\n",
    "url = \"https://openapi.naver.com/v1/search/webkr?query=\" + encText # JSON 결과\n",
    "\n",
    "\n",
    "request = urllib.request.Request(url)\n",
    "request.add_header(\"X-Naver-Client-Id\",client_id)\n",
    "request.add_header(\"X-Naver-Client-Secret\",client_secret)\n",
    "response = urllib.request.urlopen(request)\n",
    "rescode = response.getcode()\n",
    "if(rescode==200):\n",
    "    response_body = response.read()\n",
    "    print(response_body.decode('utf-8'))\n",
    "else:\n",
    "    print(\"Error Code:\" + rescode)"
   ]
  }
 ],
 "metadata": {
  "kernelspec": {
   "display_name": "Python 3",
   "language": "python",
   "name": "python3"
  },
  "language_info": {
   "codemirror_mode": {
    "name": "ipython",
    "version": 3
   },
   "file_extension": ".py",
   "mimetype": "text/x-python",
   "name": "python",
   "nbconvert_exporter": "python",
   "pygments_lexer": "ipython3",
   "version": "3.12.2"
  }
 },
 "nbformat": 4,
 "nbformat_minor": 2
}
